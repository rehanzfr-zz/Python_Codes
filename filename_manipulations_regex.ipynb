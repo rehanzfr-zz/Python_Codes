{
  "nbformat": 4,
  "nbformat_minor": 0,
  "metadata": {
    "colab": {
      "name": "Untitled0.ipynb",
      "provenance": [],
      "collapsed_sections": [],
      "authorship_tag": "ABX9TyPP9pX1tV4tvxseX1r8wwO3",
      "include_colab_link": true
    },
    "kernelspec": {
      "name": "python3",
      "display_name": "Python 3"
    },
    "language_info": {
      "name": "python"
    }
  },
  "cells": [
    {
      "cell_type": "markdown",
      "metadata": {
        "id": "view-in-github",
        "colab_type": "text"
      },
      "source": [
        "<a href=\"https://colab.research.google.com/github/rehanzfr/Python_Codes/blob/master/filename_manipulations_regex.ipynb\" target=\"_parent\"><img src=\"https://colab.research.google.com/assets/colab-badge.svg\" alt=\"Open In Colab\"/></a>"
      ]
    },
    {
      "cell_type": "code",
      "metadata": {
        "id": "4UyqJc2izzz-"
      },
      "source": [
        "import re"
      ],
      "execution_count": 1,
      "outputs": []
    },
    {
      "cell_type": "code",
      "metadata": {
        "id": "qXxs-vj60GNL"
      },
      "source": [
        "txt = \"ASP_ASR_DER_DRZ_23_233_2_44\"\n"
      ],
      "execution_count": 30,
      "outputs": []
    },
    {
      "cell_type": "code",
      "metadata": {
        "id": "xQlP2Fjd0ZNK"
      },
      "source": [
        "x = re.findall(\"([^_][A-Z]*[\\d]*)\", txt)"
      ],
      "execution_count": 31,
      "outputs": []
    },
    {
      "cell_type": "code",
      "metadata": {
        "colab": {
          "base_uri": "https://localhost:8080/",
          "height": 0
        },
        "id": "cPsKsmuh047S",
        "outputId": "1ad9f4b0-a537-4f3b-d183-784eed9b35f1"
      },
      "source": [
        "print(x)"
      ],
      "execution_count": 32,
      "outputs": [
        {
          "output_type": "stream",
          "name": "stdout",
          "text": [
            "['ASP', 'ASR', 'DER', 'DRZ', '23', '233', '2', '44']\n"
          ]
        }
      ]
    },
    {
      "cell_type": "code",
      "metadata": {
        "colab": {
          "base_uri": "https://localhost:8080/",
          "height": 0
        },
        "id": "qsn3Wq5A0h0D",
        "outputId": "b8b98b73-c6a5-4ceb-befb-b86502f0f833"
      },
      "source": [
        "print(x[0])"
      ],
      "execution_count": 33,
      "outputs": [
        {
          "output_type": "stream",
          "name": "stdout",
          "text": [
            "ASP\n"
          ]
        }
      ]
    },
    {
      "cell_type": "code",
      "metadata": {
        "colab": {
          "base_uri": "https://localhost:8080/",
          "height": 0
        },
        "id": "v6qW8Tzu0qDL",
        "outputId": "7e720e69-9607-485a-8860-fa1f7ba684a5"
      },
      "source": [
        "print(x[1])"
      ],
      "execution_count": 34,
      "outputs": [
        {
          "output_type": "stream",
          "name": "stdout",
          "text": [
            "ASR\n"
          ]
        }
      ]
    },
    {
      "cell_type": "code",
      "metadata": {
        "colab": {
          "base_uri": "https://localhost:8080/",
          "height": 0
        },
        "id": "xvUc-eEb2NO8",
        "outputId": "7ed91ff7-f605-45c9-cc04-690079975421"
      },
      "source": [
        "print(x[2])"
      ],
      "execution_count": 35,
      "outputs": [
        {
          "output_type": "stream",
          "name": "stdout",
          "text": [
            "DER\n"
          ]
        }
      ]
    },
    {
      "cell_type": "code",
      "metadata": {
        "colab": {
          "base_uri": "https://localhost:8080/",
          "height": 0
        },
        "id": "q278tCaS2PLj",
        "outputId": "953485e7-6ede-4227-9fa1-86c003fb79bc"
      },
      "source": [
        "print(x[3])"
      ],
      "execution_count": 36,
      "outputs": [
        {
          "output_type": "stream",
          "name": "stdout",
          "text": [
            "DRZ\n"
          ]
        }
      ]
    },
    {
      "cell_type": "code",
      "metadata": {
        "colab": {
          "base_uri": "https://localhost:8080/",
          "height": 0
        },
        "id": "ccpWSIW_2RUc",
        "outputId": "4be12519-f5be-431e-ca58-aa8011c6aa95"
      },
      "source": [
        "print(x[4])"
      ],
      "execution_count": 37,
      "outputs": [
        {
          "output_type": "stream",
          "name": "stdout",
          "text": [
            "23\n"
          ]
        }
      ]
    },
    {
      "cell_type": "code",
      "metadata": {
        "colab": {
          "base_uri": "https://localhost:8080/",
          "height": 0
        },
        "id": "KoDXP2aS2TWj",
        "outputId": "3cfeae12-d9e4-43be-f1c2-8a32da3cf5f1"
      },
      "source": [
        "print(x[5])"
      ],
      "execution_count": 38,
      "outputs": [
        {
          "output_type": "stream",
          "name": "stdout",
          "text": [
            "233\n"
          ]
        }
      ]
    },
    {
      "cell_type": "code",
      "metadata": {
        "colab": {
          "base_uri": "https://localhost:8080/",
          "height": 0
        },
        "id": "lkKd5STT3OME",
        "outputId": "95a917cd-a46b-433e-9f67-0c9c8bd51314"
      },
      "source": [
        "print(x[6])"
      ],
      "execution_count": 39,
      "outputs": [
        {
          "output_type": "stream",
          "name": "stdout",
          "text": [
            "2\n"
          ]
        }
      ]
    },
    {
      "cell_type": "code",
      "metadata": {
        "colab": {
          "base_uri": "https://localhost:8080/",
          "height": 0
        },
        "id": "o0GKZIa63R17",
        "outputId": "28b57cbe-b380-4796-e587-398a1f2f6e96"
      },
      "source": [
        "print(x[7])"
      ],
      "execution_count": 40,
      "outputs": [
        {
          "output_type": "stream",
          "name": "stdout",
          "text": [
            "44\n"
          ]
        }
      ]
    },
    {
      "cell_type": "code",
      "metadata": {
        "colab": {
          "base_uri": "https://localhost:8080/",
          "height": 0
        },
        "id": "uVhW_ljO2Vh0",
        "outputId": "f1fb7cf5-ea57-4c93-f129-f548e1916fbe"
      },
      "source": [
        "print(x[0]+x[4])"
      ],
      "execution_count": 41,
      "outputs": [
        {
          "output_type": "stream",
          "name": "stdout",
          "text": [
            "ASP23\n"
          ]
        }
      ]
    },
    {
      "cell_type": "code",
      "metadata": {
        "colab": {
          "base_uri": "https://localhost:8080/",
          "height": 0
        },
        "id": "UgZgIg1E2buT",
        "outputId": "b36a7708-8e5c-49f8-aee0-748b0bf6817b"
      },
      "source": [
        "print(x[1]+x[5])"
      ],
      "execution_count": 42,
      "outputs": [
        {
          "output_type": "stream",
          "name": "stdout",
          "text": [
            "ASR233\n"
          ]
        }
      ]
    },
    {
      "cell_type": "code",
      "metadata": {
        "colab": {
          "base_uri": "https://localhost:8080/",
          "height": 0
        },
        "id": "4erhhDs62flL",
        "outputId": "d9702cdc-3d5f-43c4-b49f-f0d08466e0ea"
      },
      "source": [
        "print(x[2]+x[6])"
      ],
      "execution_count": 43,
      "outputs": [
        {
          "output_type": "stream",
          "name": "stdout",
          "text": [
            "DER2\n"
          ]
        }
      ]
    },
    {
      "cell_type": "code",
      "metadata": {
        "colab": {
          "base_uri": "https://localhost:8080/",
          "height": 0
        },
        "id": "f5UBlLyg3gti",
        "outputId": "52371bd8-9ddd-4281-a942-31479b7d48e8"
      },
      "source": [
        "print(x[3]+x[7])"
      ],
      "execution_count": 44,
      "outputs": [
        {
          "output_type": "stream",
          "name": "stdout",
          "text": [
            "DRZ44\n"
          ]
        }
      ]
    },
    {
      "cell_type": "code",
      "metadata": {
        "colab": {
          "base_uri": "https://localhost:8080/",
          "height": 0
        },
        "id": "jZxc-w8Q2kzb",
        "outputId": "660c22d7-7d05-4ac3-cc2f-2db0f6f710b6"
      },
      "source": [
        "print(x[0]+x[4]+\"_\"+x[1]+x[5]+\"_\"+x[2]+x[6]+\"_\"+x[3]+x[7])"
      ],
      "execution_count": 45,
      "outputs": [
        {
          "output_type": "stream",
          "name": "stdout",
          "text": [
            "ASP23_ASR233_DER2_DRZ44\n"
          ]
        }
      ]
    },
    {
      "cell_type": "markdown",
      "metadata": {
        "id": "EB3zcNqN4QDj"
      },
      "source": [
        "# Now if you have everything messed up in the name with the presence of {, [ ] such as in this example\n",
        "\n",
        "'{{'ASP'}}_'ASR_DER,{{DRZ}}_'23'_233{{_2_44]'"
      ]
    },
    {
      "cell_type": "code",
      "metadata": {
        "colab": {
          "base_uri": "https://localhost:8080/",
          "height": 0
        },
        "id": "Iipu91kP4Ou8",
        "outputId": "1092829a-6123-4d28-ba05-3b251d20c27e"
      },
      "source": [
        "txt = \"'{{'ASP'}}_'ASR_DER,{{DRZ}}_'23'_233{{_2_44]'\"\n",
        "print(\"Actual Text given to Regex =\")\n",
        "print(txt)\n",
        "x = re.findall(\"([^{_\\\",\\'\\]\\{\\}][A-Z]*[\\d]*)\", txt)\n",
        "print(\"What it found as list =\")\n",
        "print(x)\n",
        "print(\"What we actually want = \")\n",
        "print(x[0]+x[4]+\"_\"+x[1]+x[5]+\"_\"+x[2]+x[6]+\"_\"+x[3]+x[7])"
      ],
      "execution_count": 62,
      "outputs": [
        {
          "output_type": "stream",
          "name": "stdout",
          "text": [
            "Actual Text given to Regex =\n",
            "'{{'ASP'}}_'ASR_DER,{{DRZ}}_'23'_233{{_2_44]'\n",
            "What it found as list =\n",
            "['ASP', 'ASR', 'DER', 'DRZ', '23', '233', '2', '44']\n",
            "What we actually want = \n",
            "ASP23_ASR233_DER2_DRZ44\n"
          ]
        }
      ]
    }
  ]
}